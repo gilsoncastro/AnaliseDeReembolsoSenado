{
  "nbformat": 4,
  "nbformat_minor": 0,
  "metadata": {
    "colab": {
      "name": "analise_senadores.ipynb",
      "provenance": [],
      "authorship_tag": "ABX9TyM3Zubh2u/o2kq0KzF93FeY",
      "include_colab_link": true
    },
    "kernelspec": {
      "name": "python3",
      "display_name": "Python 3"
    }
  },
  "cells": [
    {
      "cell_type": "markdown",
      "metadata": {
        "id": "view-in-github",
        "colab_type": "text"
      },
      "source": [
        "<a href=\"https://colab.research.google.com/github/gilsoncastro/AnaliseDeReembolsoSenado/blob/master/analise_senadores.ipynb\" target=\"_parent\"><img src=\"https://colab.research.google.com/assets/colab-badge.svg\" alt=\"Open In Colab\"/></a>"
      ]
    },
    {
      "cell_type": "markdown",
      "metadata": {
        "id": "TcG3V843Uop3",
        "colab_type": "text"
      },
      "source": [
        "## Análise de dados de reembolso  dos senadores - 2020"
      ]
    },
    {
      "cell_type": "code",
      "metadata": {
        "id": "RFdOjRC9X5en",
        "colab_type": "code",
        "colab": {}
      },
      "source": [
        "# importando as bibliotecas \n",
        "import pandas as pd\n",
        "import numpy as np\n",
        "import matplotlib.pyplot as plt\n",
        "%matplotlib inline\n"
      ],
      "execution_count": 17,
      "outputs": []
    },
    {
      "cell_type": "code",
      "metadata": {
        "id": "HmCykGI-YBEf",
        "colab_type": "code",
        "colab": {
          "base_uri": "https://localhost:8080/",
          "height": 496
        },
        "outputId": "b88ac819-04cf-4000-ecd8-290b302f56a1"
      },
      "source": [
        "\n",
        "#carregando dados\n",
        "df = pd.read_csv('/content/SenadoDados/senadores.csv' ,sep=';', encoding='latin1', skiprows=1, decimal=',')\n",
        "#visualizando as primeiras linhas\n",
        "df.head()"
      ],
      "execution_count": 34,
      "outputs": [
        {
          "output_type": "execute_result",
          "data": {
            "text/html": [
              "<div>\n",
              "<style scoped>\n",
              "    .dataframe tbody tr th:only-of-type {\n",
              "        vertical-align: middle;\n",
              "    }\n",
              "\n",
              "    .dataframe tbody tr th {\n",
              "        vertical-align: top;\n",
              "    }\n",
              "\n",
              "    .dataframe thead th {\n",
              "        text-align: right;\n",
              "    }\n",
              "</style>\n",
              "<table border=\"1\" class=\"dataframe\">\n",
              "  <thead>\n",
              "    <tr style=\"text-align: right;\">\n",
              "      <th></th>\n",
              "      <th>ANO</th>\n",
              "      <th>MES</th>\n",
              "      <th>SENADOR</th>\n",
              "      <th>TIPO_DESPESA</th>\n",
              "      <th>CNPJ_CPF</th>\n",
              "      <th>FORNECEDOR</th>\n",
              "      <th>DOCUMENTO</th>\n",
              "      <th>DATA</th>\n",
              "      <th>DETALHAMENTO</th>\n",
              "      <th>VALOR_REEMBOLSADO</th>\n",
              "      <th>COD_DOCUMENTO</th>\n",
              "    </tr>\n",
              "  </thead>\n",
              "  <tbody>\n",
              "    <tr>\n",
              "      <th>0</th>\n",
              "      <td>2020</td>\n",
              "      <td>1</td>\n",
              "      <td>ACIR GURGACZ</td>\n",
              "      <td>Aluguel de imóveis para escritório político, c...</td>\n",
              "      <td>05.914.650/0001-66</td>\n",
              "      <td>ENERGISA</td>\n",
              "      <td>14764742</td>\n",
              "      <td>06/01/2020</td>\n",
              "      <td>Despesa com energia elétrica para uso do escri...</td>\n",
              "      <td>122.62</td>\n",
              "      <td>2141820</td>\n",
              "    </tr>\n",
              "    <tr>\n",
              "      <th>1</th>\n",
              "      <td>2020</td>\n",
              "      <td>1</td>\n",
              "      <td>ACIR GURGACZ</td>\n",
              "      <td>Aluguel de imóveis para escritório político, c...</td>\n",
              "      <td>05.914.650/0001-66</td>\n",
              "      <td>ENERGISA</td>\n",
              "      <td>14764741</td>\n",
              "      <td>06/01/2020</td>\n",
              "      <td>Despesa com energia elétrica para uso do escri...</td>\n",
              "      <td>137.75</td>\n",
              "      <td>2141818</td>\n",
              "    </tr>\n",
              "    <tr>\n",
              "      <th>2</th>\n",
              "      <td>2020</td>\n",
              "      <td>1</td>\n",
              "      <td>ACIR GURGACZ</td>\n",
              "      <td>Aluguel de imóveis para escritório político, c...</td>\n",
              "      <td>062.135.728-64</td>\n",
              "      <td>FERNANDO WALDEIR PACINI e ANA LUCIA DA SILVA S...</td>\n",
              "      <td>001/2020</td>\n",
              "      <td>06/01/2020</td>\n",
              "      <td>Despesa com pagamento de aluguel de imóvel par...</td>\n",
              "      <td>1000.00</td>\n",
              "      <td>2139025</td>\n",
              "    </tr>\n",
              "    <tr>\n",
              "      <th>3</th>\n",
              "      <td>2020</td>\n",
              "      <td>1</td>\n",
              "      <td>ACIR GURGACZ</td>\n",
              "      <td>Aluguel de imóveis para escritório político, c...</td>\n",
              "      <td>004.948.028-63</td>\n",
              "      <td>GILBERTO PISELO DO NASCIMENTO</td>\n",
              "      <td>001/20</td>\n",
              "      <td>02/01/2020</td>\n",
              "      <td>Despesa com pagamento de aluguel de imóvel par...</td>\n",
              "      <td>6000.00</td>\n",
              "      <td>2139020</td>\n",
              "    </tr>\n",
              "    <tr>\n",
              "      <th>4</th>\n",
              "      <td>2020</td>\n",
              "      <td>1</td>\n",
              "      <td>ACIR GURGACZ</td>\n",
              "      <td>Aluguel de imóveis para escritório político, c...</td>\n",
              "      <td>05.423.963/0001-11</td>\n",
              "      <td>OI MÓVEL S.A.</td>\n",
              "      <td>333871612</td>\n",
              "      <td>25/12/2019</td>\n",
              "      <td>Despesa com pagamento de telefone para uso do ...</td>\n",
              "      <td>323.95</td>\n",
              "      <td>2139044</td>\n",
              "    </tr>\n",
              "  </tbody>\n",
              "</table>\n",
              "</div>"
            ],
            "text/plain": [
              "    ANO  MES  ... VALOR_REEMBOLSADO COD_DOCUMENTO\n",
              "0  2020    1  ...            122.62       2141820\n",
              "1  2020    1  ...            137.75       2141818\n",
              "2  2020    1  ...           1000.00       2139025\n",
              "3  2020    1  ...           6000.00       2139020\n",
              "4  2020    1  ...            323.95       2139044\n",
              "\n",
              "[5 rows x 11 columns]"
            ]
          },
          "metadata": {
            "tags": []
          },
          "execution_count": 34
        }
      ]
    },
    {
      "cell_type": "code",
      "metadata": {
        "id": "Wn96ALMdaqG_",
        "colab_type": "code",
        "colab": {
          "base_uri": "https://localhost:8080/",
          "height": 34
        },
        "outputId": "b4ff4033-4f8d-435a-b210-5489a2649537"
      },
      "source": [
        "#visualizando a dimensão dos dados\n",
        "df.shape"
      ],
      "execution_count": 30,
      "outputs": [
        {
          "output_type": "execute_result",
          "data": {
            "text/plain": [
              "(7964, 11)"
            ]
          },
          "metadata": {
            "tags": []
          },
          "execution_count": 30
        }
      ]
    },
    {
      "cell_type": "code",
      "metadata": {
        "id": "IGkZkVI1aysv",
        "colab_type": "code",
        "colab": {
          "base_uri": "https://localhost:8080/",
          "height": 323
        },
        "outputId": "389f3f2e-b1fd-45d6-8021-ae80479753a9"
      },
      "source": [
        "# informações dos dados\n",
        "df.info()"
      ],
      "execution_count": 35,
      "outputs": [
        {
          "output_type": "stream",
          "text": [
            "<class 'pandas.core.frame.DataFrame'>\n",
            "RangeIndex: 7964 entries, 0 to 7963\n",
            "Data columns (total 11 columns):\n",
            " #   Column             Non-Null Count  Dtype  \n",
            "---  ------             --------------  -----  \n",
            " 0   ANO                7964 non-null   int64  \n",
            " 1   MES                7964 non-null   int64  \n",
            " 2   SENADOR            7964 non-null   object \n",
            " 3   TIPO_DESPESA       7964 non-null   object \n",
            " 4   CNPJ_CPF           7964 non-null   object \n",
            " 5   FORNECEDOR         7964 non-null   object \n",
            " 6   DOCUMENTO          7591 non-null   object \n",
            " 7   DATA               7964 non-null   object \n",
            " 8   DETALHAMENTO       3946 non-null   object \n",
            " 9   VALOR_REEMBOLSADO  7964 non-null   float64\n",
            " 10  COD_DOCUMENTO      7964 non-null   int64  \n",
            "dtypes: float64(1), int64(3), object(7)\n",
            "memory usage: 684.5+ KB\n"
          ],
          "name": "stdout"
        }
      ]
    },
    {
      "cell_type": "code",
      "metadata": {
        "id": "JwpM1d7ccCH_",
        "colab_type": "code",
        "colab": {
          "base_uri": "https://localhost:8080/",
          "height": 173
        },
        "outputId": "f66f0568-9cd8-4933-b562-983258061dee"
      },
      "source": [
        "#resumo númerico dos dados\n",
        "df.describe().T"
      ],
      "execution_count": 37,
      "outputs": [
        {
          "output_type": "execute_result",
          "data": {
            "text/html": [
              "<div>\n",
              "<style scoped>\n",
              "    .dataframe tbody tr th:only-of-type {\n",
              "        vertical-align: middle;\n",
              "    }\n",
              "\n",
              "    .dataframe tbody tr th {\n",
              "        vertical-align: top;\n",
              "    }\n",
              "\n",
              "    .dataframe thead th {\n",
              "        text-align: right;\n",
              "    }\n",
              "</style>\n",
              "<table border=\"1\" class=\"dataframe\">\n",
              "  <thead>\n",
              "    <tr style=\"text-align: right;\">\n",
              "      <th></th>\n",
              "      <th>count</th>\n",
              "      <th>mean</th>\n",
              "      <th>std</th>\n",
              "      <th>min</th>\n",
              "      <th>25%</th>\n",
              "      <th>50%</th>\n",
              "      <th>75%</th>\n",
              "      <th>max</th>\n",
              "    </tr>\n",
              "  </thead>\n",
              "  <tbody>\n",
              "    <tr>\n",
              "      <th>ANO</th>\n",
              "      <td>7964.0</td>\n",
              "      <td>2.020000e+03</td>\n",
              "      <td>0.000000</td>\n",
              "      <td>2020.00</td>\n",
              "      <td>2020.00</td>\n",
              "      <td>2020.00</td>\n",
              "      <td>2020.00</td>\n",
              "      <td>2020.0</td>\n",
              "    </tr>\n",
              "    <tr>\n",
              "      <th>MES</th>\n",
              "      <td>7964.0</td>\n",
              "      <td>3.763561e+00</td>\n",
              "      <td>2.151425</td>\n",
              "      <td>1.00</td>\n",
              "      <td>2.00</td>\n",
              "      <td>3.00</td>\n",
              "      <td>6.00</td>\n",
              "      <td>9.0</td>\n",
              "    </tr>\n",
              "    <tr>\n",
              "      <th>VALOR_REEMBOLSADO</th>\n",
              "      <td>7964.0</td>\n",
              "      <td>1.353600e+03</td>\n",
              "      <td>2688.919670</td>\n",
              "      <td>0.01</td>\n",
              "      <td>150.00</td>\n",
              "      <td>393.55</td>\n",
              "      <td>1454.36</td>\n",
              "      <td>40000.0</td>\n",
              "    </tr>\n",
              "    <tr>\n",
              "      <th>COD_DOCUMENTO</th>\n",
              "      <td>7964.0</td>\n",
              "      <td>2.143568e+06</td>\n",
              "      <td>2664.196746</td>\n",
              "      <td>2138459.00</td>\n",
              "      <td>2141332.75</td>\n",
              "      <td>2143654.50</td>\n",
              "      <td>2145850.25</td>\n",
              "      <td>2148248.0</td>\n",
              "    </tr>\n",
              "  </tbody>\n",
              "</table>\n",
              "</div>"
            ],
            "text/plain": [
              "                    count          mean  ...         75%        max\n",
              "ANO                7964.0  2.020000e+03  ...     2020.00     2020.0\n",
              "MES                7964.0  3.763561e+00  ...        6.00        9.0\n",
              "VALOR_REEMBOLSADO  7964.0  1.353600e+03  ...     1454.36    40000.0\n",
              "COD_DOCUMENTO      7964.0  2.143568e+06  ...  2145850.25  2148248.0\n",
              "\n",
              "[4 rows x 8 columns]"
            ]
          },
          "metadata": {
            "tags": []
          },
          "execution_count": 37
        }
      ]
    },
    {
      "cell_type": "code",
      "metadata": {
        "id": "iBlZEyzvcf4J",
        "colab_type": "code",
        "colab": {
          "base_uri": "https://localhost:8080/",
          "height": 221
        },
        "outputId": "dfcd43ab-30c3-4491-a363-c7ebf1e9a673"
      },
      "source": [
        "# verificando valores faltantes no dados\n",
        "df.isnull().sum()"
      ],
      "execution_count": 41,
      "outputs": [
        {
          "output_type": "execute_result",
          "data": {
            "text/plain": [
              "ANO                     0\n",
              "MES                     0\n",
              "SENADOR                 0\n",
              "TIPO_DESPESA            0\n",
              "CNPJ_CPF                0\n",
              "FORNECEDOR              0\n",
              "DOCUMENTO             373\n",
              "DATA                    0\n",
              "DETALHAMENTO         4018\n",
              "VALOR_REEMBOLSADO       0\n",
              "COD_DOCUMENTO           0\n",
              "dtype: int64"
            ]
          },
          "metadata": {
            "tags": []
          },
          "execution_count": 41
        }
      ]
    },
    {
      "cell_type": "code",
      "metadata": {
        "id": "OaYK6oJNdU1d",
        "colab_type": "code",
        "colab": {}
      },
      "source": [
        "#veja que temos dados faltantes na coluna documento e detalhamento"
      ],
      "execution_count": 42,
      "outputs": []
    },
    {
      "cell_type": "code",
      "metadata": {
        "id": "50_LHbZKddxb",
        "colab_type": "code",
        "colab": {
          "base_uri": "https://localhost:8080/",
          "height": 221
        },
        "outputId": "f22c780e-4064-40ff-f8d3-5c01772fe0d2"
      },
      "source": [
        "# quem é o maior fornecedor ?\n",
        "# já vimos que geralmente é  agência de viagens e turismo \n",
        "df['FORNECEDOR'].value_counts()"
      ],
      "execution_count": 43,
      "outputs": [
        {
          "output_type": "execute_result",
          "data": {
            "text/plain": [
              "ADRIA VIAGENS E TURISMO LTDA                         163\n",
              "LATAM                                                154\n",
              "GOL                                                  100\n",
              "CLARO S.A.                                            62\n",
              "AZUL                                                  55\n",
              "                                                    ... \n",
              "S M DE OLIVEIRA RESTAURANTE EIRELI-EPP                 1\n",
              "Hotelaria Accor Brasil S/A                             1\n",
              "PADARIA E ROTISSERIA EIREL                             1\n",
              "GRL ORG. REV DE COMBUSTIVEIS, LUBRIFICANTES LTDA.      1\n",
              "DILCA APARECIDA MENDES                                 1\n",
              "Name: FORNECEDOR, Length: 1810, dtype: int64"
            ]
          },
          "metadata": {
            "tags": []
          },
          "execution_count": 43
        }
      ]
    },
    {
      "cell_type": "code",
      "metadata": {
        "id": "eXN7aBjEd7Ek",
        "colab_type": "code",
        "colab": {
          "base_uri": "https://localhost:8080/",
          "height": 173
        },
        "outputId": "8878e0d0-8449-4017-cf7c-0804f265fac2"
      },
      "source": [
        "#qual o tipo de despesa mais comum ?\n",
        "df['TIPO_DESPESA'].value_counts()"
      ],
      "execution_count": 48,
      "outputs": [
        {
          "output_type": "execute_result",
          "data": {
            "text/plain": [
              "Aluguel de imóveis para escritório político, compreendendo despesas concernentes a eles.                                                                                                           2476\n",
              "Locomoção, hospedagem, alimentação, combustíveis e lubrificantes                                                                                                                                   2395\n",
              "Passagens aéreas, aquáticas e terrestres nacionais                                                                                                                                                 1166\n",
              "Aquisição de material de consumo para uso no escritório político, inclusive aquisição ou locação de software, despesas postais, aquisição de publicações, locação de móveis e de equipamentos.      722\n",
              "Divulgação da atividade parlamentar                                                                                                                                                                 637\n",
              "Contratação de consultorias, assessorias, pesquisas, trabalhos técnicos e outros serviços de apoio ao exercício do mandato parlamentar                                                              548\n",
              "Serviços de Segurança Privada                                                                                                                                                                        20\n",
              "Name: TIPO_DESPESA, dtype: int64"
            ]
          },
          "metadata": {
            "tags": []
          },
          "execution_count": 48
        }
      ]
    },
    {
      "cell_type": "code",
      "metadata": {
        "id": "-HipBZZVflyA",
        "colab_type": "code",
        "colab": {
          "base_uri": "https://localhost:8080/",
          "height": 221
        },
        "outputId": "9f926aa4-3169-45f1-ecff-6d36dd818a77"
      },
      "source": [
        "#qual a quantidade de reembolso de cada senador ?\n",
        "df['SENADOR'].value_counts()"
      ],
      "execution_count": 52,
      "outputs": [
        {
          "output_type": "execute_result",
          "data": {
            "text/plain": [
              "CARLOS VIANA           310\n",
              "MAJOR OLIMPIO          246\n",
              "WELLINGTON FAGUNDES    241\n",
              "ZEQUINHA MARINHO       231\n",
              "CONFÚCIO MOURA         224\n",
              "                      ... \n",
              "ALVARO DIAS             15\n",
              "OMAR AZIZ               14\n",
              "STYVENSON VALENTIM      10\n",
              "JADER BARBALHO           9\n",
              "ORIOVISTO GUIMARÃES      1\n",
              "Name: SENADOR, Length: 80, dtype: int64"
            ]
          },
          "metadata": {
            "tags": []
          },
          "execution_count": 52
        }
      ]
    },
    {
      "cell_type": "code",
      "metadata": {
        "id": "7kctQ_P7hpUg",
        "colab_type": "code",
        "colab": {
          "base_uri": "https://localhost:8080/",
          "height": 238
        },
        "outputId": "bf87fed1-e57e-469f-deef-e00218e8225e"
      },
      "source": [
        "# quanto cada senador soliticou de reembolso em 2020 ?\n",
        "df.groupby('SENADOR')['VALOR_REEMBOLSADO'].sum().sort_values(ascending=False)\n"
      ],
      "execution_count": 57,
      "outputs": [
        {
          "output_type": "execute_result",
          "data": {
            "text/plain": [
              "SENADOR\n",
              "MARCIO BITTAR          304880.80\n",
              "FERNANDO COLLOR        265548.32\n",
              "ACIR GURGACZ           265383.21\n",
              "TELMÁRIO MOTA          254603.83\n",
              "MAILZA GOMES           251621.90\n",
              "                         ...    \n",
              "FABIANO CONTARATO       30339.72\n",
              "ALVARO DIAS             17371.41\n",
              "ROSE DE FREITAS         11127.07\n",
              "STYVENSON VALENTIM       6393.00\n",
              "ORIOVISTO GUIMARÃES      1548.02\n",
              "Name: VALOR_REEMBOLSADO, Length: 80, dtype: float64"
            ]
          },
          "metadata": {
            "tags": []
          },
          "execution_count": 57
        }
      ]
    },
    {
      "cell_type": "code",
      "metadata": {
        "id": "dWgqovQrjUSN",
        "colab_type": "code",
        "colab": {
          "base_uri": "https://localhost:8080/",
          "height": 190
        },
        "outputId": "9e201bc3-2cf7-4586-c512-2b9ddb4609f5"
      },
      "source": [
        "#qual o tipo de despesa com maior valor de reembolso?\n",
        "df.groupby('TIPO_DESPESA')['VALOR_REEMBOLSADO'].sum().sort_values(ascending=False)\n"
      ],
      "execution_count": 58,
      "outputs": [
        {
          "output_type": "execute_result",
          "data": {
            "text/plain": [
              "TIPO_DESPESA\n",
              "Contratação de consultorias, assessorias, pesquisas, trabalhos técnicos e outros serviços de apoio ao exercício do mandato parlamentar                                                             3187964.64\n",
              "Aluguel de imóveis para escritório político, compreendendo despesas concernentes a eles.                                                                                                           2371144.62\n",
              "Locomoção, hospedagem, alimentação, combustíveis e lubrificantes                                                                                                                                   1930023.01\n",
              "Passagens aéreas, aquáticas e terrestres nacionais                                                                                                                                                 1384698.35\n",
              "Divulgação da atividade parlamentar                                                                                                                                                                1338153.68\n",
              "Aquisição de material de consumo para uso no escritório político, inclusive aquisição ou locação de software, despesas postais, aquisição de publicações, locação de móveis e de equipamentos.      555325.94\n",
              "Serviços de Segurança Privada                                                                                                                                                                        12762.32\n",
              "Name: VALOR_REEMBOLSADO, dtype: float64"
            ]
          },
          "metadata": {
            "tags": []
          },
          "execution_count": 58
        }
      ]
    },
    {
      "cell_type": "code",
      "metadata": {
        "id": "0g8V_bUtjxYP",
        "colab_type": "code",
        "colab": {
          "base_uri": "https://localhost:8080/",
          "height": 509
        },
        "outputId": "327556c0-6f79-46f7-a983-f68c4ed745fc"
      },
      "source": [
        "# 5 maiores valores reembolsados\n",
        "df.nlargest(5,'VALOR_REEMBOLSADO').T"
      ],
      "execution_count": 59,
      "outputs": [
        {
          "output_type": "execute_result",
          "data": {
            "text/html": [
              "<div>\n",
              "<style scoped>\n",
              "    .dataframe tbody tr th:only-of-type {\n",
              "        vertical-align: middle;\n",
              "    }\n",
              "\n",
              "    .dataframe tbody tr th {\n",
              "        vertical-align: top;\n",
              "    }\n",
              "\n",
              "    .dataframe thead th {\n",
              "        text-align: right;\n",
              "    }\n",
              "</style>\n",
              "<table border=\"1\" class=\"dataframe\">\n",
              "  <thead>\n",
              "    <tr style=\"text-align: right;\">\n",
              "      <th></th>\n",
              "      <th>4901</th>\n",
              "      <th>4880</th>\n",
              "      <th>5303</th>\n",
              "      <th>5315</th>\n",
              "      <th>5329</th>\n",
              "    </tr>\n",
              "  </thead>\n",
              "  <tbody>\n",
              "    <tr>\n",
              "      <th>ANO</th>\n",
              "      <td>2020</td>\n",
              "      <td>2020</td>\n",
              "      <td>2020</td>\n",
              "      <td>2020</td>\n",
              "      <td>2020</td>\n",
              "    </tr>\n",
              "    <tr>\n",
              "      <th>MES</th>\n",
              "      <td>7</td>\n",
              "      <td>4</td>\n",
              "      <td>2</td>\n",
              "      <td>3</td>\n",
              "      <td>4</td>\n",
              "    </tr>\n",
              "    <tr>\n",
              "      <th>SENADOR</th>\n",
              "      <td>MARCIO BITTAR</td>\n",
              "      <td>MARCIO BITTAR</td>\n",
              "      <td>NELSINHO TRAD</td>\n",
              "      <td>NELSINHO TRAD</td>\n",
              "      <td>NELSINHO TRAD</td>\n",
              "    </tr>\n",
              "    <tr>\n",
              "      <th>TIPO_DESPESA</th>\n",
              "      <td>Contratação de consultorias, assessorias, pesq...</td>\n",
              "      <td>Contratação de consultorias, assessorias, pesq...</td>\n",
              "      <td>Contratação de consultorias, assessorias, pesq...</td>\n",
              "      <td>Contratação de consultorias, assessorias, pesq...</td>\n",
              "      <td>Contratação de consultorias, assessorias, pesq...</td>\n",
              "    </tr>\n",
              "    <tr>\n",
              "      <th>CNPJ_CPF</th>\n",
              "      <td>02.456.658/0001-38</td>\n",
              "      <td>02.456.658/0001-38</td>\n",
              "      <td>37.195.146/0001-40</td>\n",
              "      <td>37.195.146/0001-40</td>\n",
              "      <td>37.195.146/0001-40</td>\n",
              "    </tr>\n",
              "    <tr>\n",
              "      <th>FORNECEDOR</th>\n",
              "      <td>IDÉIAS ESTRATÉGIA, PLANEJAMENTO E PROJETO LTDA</td>\n",
              "      <td>IDÉIAS ESTRATÉGIA, PLANEJAMENTO E PROJETO LTDA</td>\n",
              "      <td>Home Mix Produção e Assessoria em Radiodifusão...</td>\n",
              "      <td>Home Mix Produção e Assessoria em Radiodifusão...</td>\n",
              "      <td>Home Mix Produção e Assessoria em Radiodifusão...</td>\n",
              "    </tr>\n",
              "    <tr>\n",
              "      <th>DOCUMENTO</th>\n",
              "      <td>107</td>\n",
              "      <td>000.000.105</td>\n",
              "      <td>00006445</td>\n",
              "      <td>6462</td>\n",
              "      <td>00006538</td>\n",
              "    </tr>\n",
              "    <tr>\n",
              "      <th>DATA</th>\n",
              "      <td>07/07/2020</td>\n",
              "      <td>06/04/2020</td>\n",
              "      <td>18/02/2020</td>\n",
              "      <td>03/03/2020</td>\n",
              "      <td>08/04/2020</td>\n",
              "    </tr>\n",
              "    <tr>\n",
              "      <th>DETALHAMENTO</th>\n",
              "      <td>Valor pago referente ao serviço de consultoria...</td>\n",
              "      <td>Valor pago referente ao serviço de consultoria...</td>\n",
              "      <td>Referente ao pagamento da prestação de serviço...</td>\n",
              "      <td>Referente à prestação de serviços de assessori...</td>\n",
              "      <td>Referente ao pagamento, no mês de abril, da pr...</td>\n",
              "    </tr>\n",
              "    <tr>\n",
              "      <th>VALOR_REEMBOLSADO</th>\n",
              "      <td>40000</td>\n",
              "      <td>30000</td>\n",
              "      <td>30000</td>\n",
              "      <td>30000</td>\n",
              "      <td>30000</td>\n",
              "    </tr>\n",
              "    <tr>\n",
              "      <th>COD_DOCUMENTO</th>\n",
              "      <td>2146346</td>\n",
              "      <td>2143518</td>\n",
              "      <td>2140740</td>\n",
              "      <td>2141190</td>\n",
              "      <td>2143616</td>\n",
              "    </tr>\n",
              "  </tbody>\n",
              "</table>\n",
              "</div>"
            ],
            "text/plain": [
              "                                                                4901  ...                                               5329\n",
              "ANO                                                             2020  ...                                               2020\n",
              "MES                                                                7  ...                                                  4\n",
              "SENADOR                                                MARCIO BITTAR  ...                                      NELSINHO TRAD\n",
              "TIPO_DESPESA       Contratação de consultorias, assessorias, pesq...  ...  Contratação de consultorias, assessorias, pesq...\n",
              "CNPJ_CPF                                          02.456.658/0001-38  ...                                 37.195.146/0001-40\n",
              "FORNECEDOR            IDÉIAS ESTRATÉGIA, PLANEJAMENTO E PROJETO LTDA  ...  Home Mix Produção e Assessoria em Radiodifusão...\n",
              "DOCUMENTO                                                        107  ...                                           00006538\n",
              "DATA                                                      07/07/2020  ...                                         08/04/2020\n",
              "DETALHAMENTO       Valor pago referente ao serviço de consultoria...  ...  Referente ao pagamento, no mês de abril, da pr...\n",
              "VALOR_REEMBOLSADO                                              40000  ...                                              30000\n",
              "COD_DOCUMENTO                                                2146346  ...                                            2143616\n",
              "\n",
              "[11 rows x 5 columns]"
            ]
          },
          "metadata": {
            "tags": []
          },
          "execution_count": 59
        }
      ]
    },
    {
      "cell_type": "code",
      "metadata": {
        "id": "ITaADbh9knSI",
        "colab_type": "code",
        "colab": {
          "base_uri": "https://localhost:8080/",
          "height": 526
        },
        "outputId": "30e5d0db-6e73-470a-c302-06bf0b21efff"
      },
      "source": [
        "# 5 menores valores de reembolso\n",
        "df.nsmallest(5,'VALOR_REEMBOLSADO').T\n"
      ],
      "execution_count": 62,
      "outputs": [
        {
          "output_type": "execute_result",
          "data": {
            "text/html": [
              "<div>\n",
              "<style scoped>\n",
              "    .dataframe tbody tr th:only-of-type {\n",
              "        vertical-align: middle;\n",
              "    }\n",
              "\n",
              "    .dataframe tbody tr th {\n",
              "        vertical-align: top;\n",
              "    }\n",
              "\n",
              "    .dataframe thead th {\n",
              "        text-align: right;\n",
              "    }\n",
              "</style>\n",
              "<table border=\"1\" class=\"dataframe\">\n",
              "  <thead>\n",
              "    <tr style=\"text-align: right;\">\n",
              "      <th></th>\n",
              "      <th>1436</th>\n",
              "      <th>1452</th>\n",
              "      <th>7150</th>\n",
              "      <th>5187</th>\n",
              "      <th>3544</th>\n",
              "    </tr>\n",
              "  </thead>\n",
              "  <tbody>\n",
              "    <tr>\n",
              "      <th>ANO</th>\n",
              "      <td>2020</td>\n",
              "      <td>2020</td>\n",
              "      <td>2020</td>\n",
              "      <td>2020</td>\n",
              "      <td>2020</td>\n",
              "    </tr>\n",
              "    <tr>\n",
              "      <th>MES</th>\n",
              "      <td>3</td>\n",
              "      <td>3</td>\n",
              "      <td>1</td>\n",
              "      <td>2</td>\n",
              "      <td>1</td>\n",
              "    </tr>\n",
              "    <tr>\n",
              "      <th>SENADOR</th>\n",
              "      <td>DÁRIO BERGER</td>\n",
              "      <td>DÁRIO BERGER</td>\n",
              "      <td>VANDERLAN CARDOSO</td>\n",
              "      <td>MARIA DO CARMO ALVES</td>\n",
              "      <td>JOSÉ SERRA</td>\n",
              "    </tr>\n",
              "    <tr>\n",
              "      <th>TIPO_DESPESA</th>\n",
              "      <td>Passagens aéreas, aquáticas e terrestres nacio...</td>\n",
              "      <td>Passagens aéreas, aquáticas e terrestres nacio...</td>\n",
              "      <td>Locomoção, hospedagem, alimentação, combustíve...</td>\n",
              "      <td>Passagens aéreas, aquáticas e terrestres nacio...</td>\n",
              "      <td>Aquisição de material de consumo para uso no e...</td>\n",
              "    </tr>\n",
              "    <tr>\n",
              "      <th>CNPJ_CPF</th>\n",
              "      <td>07.575.651/0001-59</td>\n",
              "      <td>33.937.681/0001-78</td>\n",
              "      <td>25.124.074/0001-60</td>\n",
              "      <td>13.038.641/0001-87</td>\n",
              "      <td>21.050.733/0001-00</td>\n",
              "    </tr>\n",
              "    <tr>\n",
              "      <th>FORNECEDOR</th>\n",
              "      <td>GOL LINHAS AÉREAS INTELIGENTES</td>\n",
              "      <td>LATAM</td>\n",
              "      <td>VALPOSTO COMBUSTIVEIS LTDA</td>\n",
              "      <td>SERGITUR - SERGIPE TURISMO LTDA</td>\n",
              "      <td>JOTA JORNALISMO S/A</td>\n",
              "    </tr>\n",
              "    <tr>\n",
              "      <th>DOCUMENTO</th>\n",
              "      <td>SR6BNK</td>\n",
              "      <td>XYEDKX</td>\n",
              "      <td>NaN</td>\n",
              "      <td>DBUGTJ</td>\n",
              "      <td>00056190</td>\n",
              "    </tr>\n",
              "    <tr>\n",
              "      <th>DATA</th>\n",
              "      <td>23/03/2020</td>\n",
              "      <td>25/03/2020</td>\n",
              "      <td>20/01/2020</td>\n",
              "      <td>14/01/2020</td>\n",
              "      <td>28/01/2020</td>\n",
              "    </tr>\n",
              "    <tr>\n",
              "      <th>DETALHAMENTO</th>\n",
              "      <td>Companhia Aérea: GOL, Localizador: SR6BNK. Pas...</td>\n",
              "      <td>Companhia Aérea: LATAM, Localizador: XYEDKX. P...</td>\n",
              "      <td>NaN</td>\n",
              "      <td>Companhia Aérea: LATAM, Localizador: DBUGTJ. P...</td>\n",
              "      <td>Senador José Serra - Despesa com assinatura de...</td>\n",
              "    </tr>\n",
              "    <tr>\n",
              "      <th>VALOR_REEMBOLSADO</th>\n",
              "      <td>0.01</td>\n",
              "      <td>0.01</td>\n",
              "      <td>0.12</td>\n",
              "      <td>0.16</td>\n",
              "      <td>0.9</td>\n",
              "    </tr>\n",
              "    <tr>\n",
              "      <th>COD_DOCUMENTO</th>\n",
              "      <td>2143009</td>\n",
              "      <td>2142997</td>\n",
              "      <td>2141862</td>\n",
              "      <td>2142015</td>\n",
              "      <td>2139803</td>\n",
              "    </tr>\n",
              "  </tbody>\n",
              "</table>\n",
              "</div>"
            ],
            "text/plain": [
              "                                                                1436  ...                                               3544\n",
              "ANO                                                             2020  ...                                               2020\n",
              "MES                                                                3  ...                                                  1\n",
              "SENADOR                                                 DÁRIO BERGER  ...                                         JOSÉ SERRA\n",
              "TIPO_DESPESA       Passagens aéreas, aquáticas e terrestres nacio...  ...  Aquisição de material de consumo para uso no e...\n",
              "CNPJ_CPF                                          07.575.651/0001-59  ...                                 21.050.733/0001-00\n",
              "FORNECEDOR                            GOL LINHAS AÉREAS INTELIGENTES  ...                                JOTA JORNALISMO S/A\n",
              "DOCUMENTO                                                     SR6BNK  ...                                           00056190\n",
              "DATA                                                      23/03/2020  ...                                         28/01/2020\n",
              "DETALHAMENTO       Companhia Aérea: GOL, Localizador: SR6BNK. Pas...  ...  Senador José Serra - Despesa com assinatura de...\n",
              "VALOR_REEMBOLSADO                                               0.01  ...                                                0.9\n",
              "COD_DOCUMENTO                                                2143009  ...                                            2139803\n",
              "\n",
              "[11 rows x 5 columns]"
            ]
          },
          "metadata": {
            "tags": []
          },
          "execution_count": 62
        }
      ]
    },
    {
      "cell_type": "code",
      "metadata": {
        "id": "py1fH83MpGdC",
        "colab_type": "code",
        "colab": {
          "base_uri": "https://localhost:8080/",
          "height": 295
        },
        "outputId": "30ae9ab0-85f4-4630-b2e8-e91cfb18cf22"
      },
      "source": [
        "plt.style.use('ggplot')\n",
        "plt.rcdefaults()\n",
        "fig, ax = plt.subplots()\n",
        "\n",
        "y_pos = np.arange(len(df['TIPO_DESPESA'].value_counts()[:5]))\n",
        "values = df['TIPO_DESPESA'].value_counts()[:5]\n",
        "tipo = df['TIPO_DESPESA'].unique()[:5]\n",
        "\n",
        "ax.barh(y_pos, values, align='center', color='#00FF7F')\n",
        "ax.set_yticks(y_pos)\n",
        "ax.set_yticklabels(tipo)\n",
        "ax.invert_yaxis()\n",
        "ax.set_xlabel('')\n",
        "ax.set_title(' 5 Maiores tipos despesas dos senadores')\n",
        "plt.show()"
      ],
      "execution_count": 74,
      "outputs": [
        {
          "output_type": "display_data",
          "data": {
            "image/png": "[encoded data removed]",
            "text/plain": [
              "<Figure size 640x480 with 1 Axes>"
            ]
          },
          "metadata": {
            "tags": []
          }
        }
      ]
    },
    {
      "cell_type": "code",
      "metadata": {
        "id": "BtuC2b80qcGZ",
        "colab_type": "code",
        "colab": {}
      },
      "source": [
        ""
      ],
      "execution_count": null,
      "outputs": []
    }
  ]
}